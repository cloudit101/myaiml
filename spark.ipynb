{
  "nbformat": 4,
  "nbformat_minor": 0,
  "metadata": {
    "colab": {
      "provenance": [],
      "toc_visible": true,
      "authorship_tag": "ABX9TyMzVLWGzrsIHsicXxuEnO4/",
      "include_colab_link": true
    },
    "kernelspec": {
      "name": "python3",
      "display_name": "Python 3"
    },
    "language_info": {
      "name": "python"
    }
  },
  "cells": [
    {
      "cell_type": "markdown",
      "metadata": {
        "id": "view-in-github",
        "colab_type": "text"
      },
      "source": [
        "<a href=\"https://colab.research.google.com/github/cloudit101/myaiml/blob/main/spark.ipynb\" target=\"_parent\"><img src=\"https://colab.research.google.com/assets/colab-badge.svg\" alt=\"Open In Colab\"/></a>"
      ]
    },
    {
      "cell_type": "code",
      "execution_count": null,
      "metadata": {
        "colab": {
          "base_uri": "https://localhost:8080/"
        },
        "id": "zbLtXEXk6vGt",
        "outputId": "85f237b5-151a-4c0c-f7d9-8ea4229a452e"
      },
      "outputs": [
        {
          "output_type": "stream",
          "name": "stdout",
          "text": [
            "Requirement already satisfied: pyspark in /usr/local/lib/python3.11/dist-packages (3.5.5)\n",
            "Requirement already satisfied: py4j==0.10.9.7 in /usr/local/lib/python3.11/dist-packages (from pyspark) (0.10.9.7)\n"
          ]
        }
      ],
      "source": [
        "!pip install pyspark\n"
      ]
    },
    {
      "cell_type": "code",
      "source": [
        "from pyspark.sql import SparkSession\n",
        "\n",
        "# Create Spark session\n",
        "spark = SparkSession.builder \\\n",
        "    .appName(\"PySparkTutorial\") \\\n",
        "    .getOrCreate()\n"
      ],
      "metadata": {
        "id": "jpswA9tU7L-3"
      },
      "execution_count": null,
      "outputs": []
    },
    {
      "cell_type": "code",
      "source": [
        "from pyspark.sql import Row\n",
        "\n",
        "# Sample data\n",
        "data = [\n",
        "    Row(name=\"Alice\", age=25, department=\"HR\", salary=50000),\n",
        "    Row(name=\"Bob\", age=30, department=\"IT\", salary=70000),\n",
        "    Row(name=\"Cathy\", age=28, department=\"HR\", salary=52000),\n",
        "    Row(name=\"David\", age=35, department=\"Finance\", salary=80000),\n",
        "    Row(name=\"Eva\", age=40, department=\"IT\", salary=95000)\n",
        "]\n",
        "\n",
        "# Create DataFrame\n",
        "df = spark.createDataFrame(data)\n",
        "\n",
        "# Show the data\n",
        "df.show()\n"
      ],
      "metadata": {
        "colab": {
          "base_uri": "https://localhost:8080/"
        },
        "id": "KgmlSNUB7Q7s",
        "outputId": "cee66759-6458-42f3-d181-85a76368d244"
      },
      "execution_count": null,
      "outputs": [
        {
          "output_type": "stream",
          "name": "stdout",
          "text": [
            "+-----+---+----------+------+\n",
            "| name|age|department|salary|\n",
            "+-----+---+----------+------+\n",
            "|Alice| 25|        HR| 50000|\n",
            "|  Bob| 30|        IT| 70000|\n",
            "|Cathy| 28|        HR| 52000|\n",
            "|David| 35|   Finance| 80000|\n",
            "|  Eva| 40|        IT| 95000|\n",
            "+-----+---+----------+------+\n",
            "\n"
          ]
        }
      ]
    },
    {
      "cell_type": "code",
      "source": [
        "# Print the schema\n",
        "df.printSchema()\n",
        "\n",
        "# Describe statistics\n",
        "df.describe().show()\n",
        "\n",
        "# Select specific columns\n",
        "df.select(\"name\", \"salary\").show()\n",
        "\n",
        "# Filter rows\n",
        "df.filter(df.age > 30).show()\n"
      ],
      "metadata": {
        "colab": {
          "base_uri": "https://localhost:8080/"
        },
        "id": "sVdAFbjT7WaI",
        "outputId": "e59560f3-d20e-4ae3-892c-dea30e70b32f"
      },
      "execution_count": null,
      "outputs": [
        {
          "output_type": "stream",
          "name": "stdout",
          "text": [
            "root\n",
            " |-- name: string (nullable = true)\n",
            " |-- age: long (nullable = true)\n",
            " |-- department: string (nullable = true)\n",
            " |-- salary: long (nullable = true)\n",
            "\n",
            "+-------+-----+----------------+----------+-----------------+\n",
            "|summary| name|             age|department|           salary|\n",
            "+-------+-----+----------------+----------+-----------------+\n",
            "|  count|    5|               5|         5|                5|\n",
            "|   mean| NULL|            31.6|      NULL|          69400.0|\n",
            "| stddev| NULL|5.94138031100518|      NULL|19021.04098097683|\n",
            "|    min|Alice|              25|   Finance|            50000|\n",
            "|    max|  Eva|              40|        IT|            95000|\n",
            "+-------+-----+----------------+----------+-----------------+\n",
            "\n",
            "+-----+------+\n",
            "| name|salary|\n",
            "+-----+------+\n",
            "|Alice| 50000|\n",
            "|  Bob| 70000|\n",
            "|Cathy| 52000|\n",
            "|David| 80000|\n",
            "|  Eva| 95000|\n",
            "+-----+------+\n",
            "\n",
            "+-----+---+----------+------+\n",
            "| name|age|department|salary|\n",
            "+-----+---+----------+------+\n",
            "|David| 35|   Finance| 80000|\n",
            "|  Eva| 40|        IT| 95000|\n",
            "+-----+---+----------+------+\n",
            "\n"
          ]
        }
      ]
    },
    {
      "cell_type": "code",
      "source": [
        "# Average salary by department\n",
        "df.groupBy(\"department\").avg(\"salary\").show()\n",
        "\n",
        "# Count employees per department\n",
        "df.groupBy(\"department\").count().show()\n"
      ],
      "metadata": {
        "colab": {
          "base_uri": "https://localhost:8080/"
        },
        "id": "c1RNW5Am7bme",
        "outputId": "a84c8df2-0b11-4222-b52e-cd7729878329"
      },
      "execution_count": null,
      "outputs": [
        {
          "output_type": "stream",
          "name": "stdout",
          "text": [
            "+----------+-----------+\n",
            "|department|avg(salary)|\n",
            "+----------+-----------+\n",
            "|        HR|    51000.0|\n",
            "|        IT|    82500.0|\n",
            "|   Finance|    80000.0|\n",
            "+----------+-----------+\n",
            "\n",
            "+----------+-----+\n",
            "|department|count|\n",
            "+----------+-----+\n",
            "|        HR|    2|\n",
            "|        IT|    2|\n",
            "|   Finance|    1|\n",
            "+----------+-----+\n",
            "\n"
          ]
        }
      ]
    },
    {
      "cell_type": "code",
      "source": [
        "# Register DataFrame as a SQL table\n",
        "df.createOrReplaceTempView(\"employees\")\n",
        "\n",
        "# Use SQL to select data\n",
        "result = spark.sql(\"SELECT department, COUNT(*) as count, AVG(salary) as avg_salary FROM employees GROUP BY department\")\n",
        "result.show()\n"
      ],
      "metadata": {
        "colab": {
          "base_uri": "https://localhost:8080/"
        },
        "id": "VHnTGZ_i7fnO",
        "outputId": "82bd9883-c8e5-4f0b-995a-c18185e93f15"
      },
      "execution_count": null,
      "outputs": [
        {
          "output_type": "stream",
          "name": "stdout",
          "text": [
            "+----------+-----+----------+\n",
            "|department|count|avg_salary|\n",
            "+----------+-----+----------+\n",
            "|        HR|    2|   51000.0|\n",
            "|        IT|    2|   82500.0|\n",
            "|   Finance|    1|   80000.0|\n",
            "+----------+-----+----------+\n",
            "\n"
          ]
        }
      ]
    },
    {
      "cell_type": "code",
      "source": [
        "spark.stop()\n"
      ],
      "metadata": {
        "id": "nPlNcJSD7kUp"
      },
      "execution_count": null,
      "outputs": []
    },
    {
      "cell_type": "code",
      "source": [],
      "metadata": {
        "id": "d-89ShWo7pae"
      },
      "execution_count": null,
      "outputs": []
    }
  ]
}